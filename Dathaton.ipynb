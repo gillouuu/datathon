{
 "cells": [
  {
   "cell_type": "code",
   "execution_count": 10,
   "metadata": {},
   "outputs": [
    {
     "data": {
      "text/html": [
       "\n",
       "        <iframe\n",
       "            width=\"100%\"\n",
       "            height=\"650\"\n",
       "            src=\"http://127.0.0.1:8050/\"\n",
       "            frameborder=\"0\"\n",
       "            allowfullscreen\n",
       "            \n",
       "        ></iframe>\n",
       "        "
      ],
      "text/plain": [
       "<IPython.lib.display.IFrame at 0x7fc28450e940>"
      ]
     },
     "metadata": {},
     "output_type": "display_data"
    }
   ],
   "source": [
    "import dash\n",
    "from dash import html, dcc\n",
    "import pandas as pd\n",
    "\n",
    "app = dash.Dash(__name__)\n",
    "\n",
    "# Modèle de lettre de motivation\n",
    "TEMPLATE_LETTER = \"\"\"\n",
    "Madame, Monsieur,\n",
    "\n",
    "Je me permets de vous adresser ma candidature pour intégrer la formation {formation}, qui correspond parfaitement à mon projet professionnel.\n",
    "\n",
    "Titulaire d'un {diplome}, je souhaite approfondir mes compétences en {formation} afin de m'orienter vers le métier de {metier}.\n",
    "\n",
    "Rigoureux(se) et motivé(e), je suis prêt(e) à m'investir pleinement dans cette formation pour acquérir les compétences nécessaires.\n",
    "\n",
    "Dans l’attente de votre retour, je vous prie d’agréer, Madame, Monsieur, mes salutations distinguées.\n",
    "\n",
    "Signature\n",
    "\"\"\"\n",
    "\n",
    "# Fonction pour générer la lettre de motivation\n",
    "def generate_motivation_letter(metier, formation, diplome):\n",
    "    return TEMPLATE_LETTER.format(metier=metier, formation=formation, diplome=diplome)\n",
    "\n",
    "# Exemple de données simulées\n",
    "example_data = [\n",
    "    {\"Nom du métier\": \"Développeur Web\", \"Nom de la formation\": \"Développement Web\", \"Diplôme\": \"Bac +2\"},\n",
    "    {\"Nom du métier\": \"Analyste Données\", \"Nom de la formation\": \"Data Science\", \"Diplôme\": \"Bac +5\"}\n",
    "]\n",
    "\n",
    "df = pd.DataFrame(example_data)\n",
    "df[\"Lettre de motivation\"] = df.apply(lambda row: generate_motivation_letter(row[\"Nom du métier\"], row[\"Nom de la formation\"], row[\"Diplôme\"]), axis=1)\n",
    "\n",
    "# Layout de l'application\n",
    "app.layout = html.Div([\n",
    "    html.H3(\"Générateur de lettres de motivation\"),\n",
    "    \n",
    "    # Affichage des lettres sous forme de blocs avec un bon format\n",
    "    html.Div([\n",
    "        html.Div([\n",
    "            html.H4(f\"Métier : {row['Nom du métier']}\"),\n",
    "            html.H5(f\"Formation : {row['Nom de la formation']}\"),\n",
    "            html.P([html.Br() if line == \"\" else line for line in generate_motivation_letter(row[\"Nom du métier\"], row[\"Nom de la formation\"], row[\"Diplôme\"]).split(\"\\n\")])\n",
    "        ], style={\"border\": \"1px solid black\", \"padding\": \"15px\", \"margin\": \"10px\", \"border-radius\": \"5px\", \"background-color\": \"#f9f9f9\"})\n",
    "        for _, row in df.iterrows()\n",
    "    ])\n",
    "])\n",
    "\n",
    "# Lancement du serveur Dash\n",
    "if __name__ == '__main__':\n",
    "    app.run_server(debug=True)\n"
   ]
  }
 ],
 "metadata": {
  "kernelspec": {
   "display_name": "base",
   "language": "python",
   "name": "python3"
  },
  "language_info": {
   "codemirror_mode": {
    "name": "ipython",
    "version": 3
   },
   "file_extension": ".py",
   "mimetype": "text/x-python",
   "name": "python",
   "nbconvert_exporter": "python",
   "pygments_lexer": "ipython3",
   "version": "3.9.13"
  }
 },
 "nbformat": 4,
 "nbformat_minor": 2
}
